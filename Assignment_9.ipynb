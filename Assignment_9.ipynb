{
 "cells": [
  {
   "cell_type": "markdown",
   "id": "73a56358",
   "metadata": {},
   "source": [
    "# Answer 1"
   ]
  },
  {
   "cell_type": "markdown",
   "id": "b036bf73",
   "metadata": {},
   "source": [
    "str, bytes and bytearray are the names and functions of string object types."
   ]
  },
  {
   "cell_type": "markdown",
   "id": "37c500d0",
   "metadata": {},
   "source": [
    "# Answer 2"
   ]
  },
  {
   "cell_type": "markdown",
   "id": "3d71e0f9",
   "metadata": {},
   "source": [
    "In 3.X, Unicode text is handled by str,  byte-based data is handled by bytes."
   ]
  },
  {
   "cell_type": "markdown",
   "id": "6026db7c",
   "metadata": {},
   "source": [
    "# Answer 3"
   ]
  },
  {
   "cell_type": "markdown",
   "id": "4ba6e629",
   "metadata": {},
   "source": [
    "Non-ASCII Unicode characters can be coded in a string with both hex (\\xNN) and Unicode (\\uNNNN, \\UNNNNNNNN) escapes."
   ]
  },
  {
   "cell_type": "markdown",
   "id": "2f545119",
   "metadata": {},
   "source": [
    "# Answer 4"
   ]
  },
  {
   "cell_type": "markdown",
   "id": "a3e0e39b",
   "metadata": {},
   "source": [
    "In 3.X,text-mode files assume their file content is Unicode text (even if it’s all ASCII) and automatically decode when reading and encode when writing. With binary-mode files, bytes are transferred to and from the file unchanged."
   ]
  },
  {
   "cell_type": "markdown",
   "id": "0fc7b09a",
   "metadata": {},
   "source": [
    "# Answer 5"
   ]
  },
  {
   "cell_type": "markdown",
   "id": "c04ca5a6",
   "metadata": {},
   "source": [
    "In 3.X, to read files encoded in a different encoding than the default for your platform, pass the name of the file’s encoding to the open function. This will decode the contents of the file read."
   ]
  },
  {
   "cell_type": "markdown",
   "id": "706b1cb0",
   "metadata": {},
   "source": [
    "# Answer 6"
   ]
  },
  {
   "cell_type": "markdown",
   "id": "abd27e90",
   "metadata": {},
   "source": [
    "To create a Unicode text file in a specific encoding format, pass the desired encoding name to open function; strings will be encoded as per encoding when contents are written to the file."
   ]
  },
  {
   "cell_type": "markdown",
   "id": "9f71866f",
   "metadata": {},
   "source": [
    "# Answer 7"
   ]
  },
  {
   "cell_type": "markdown",
   "id": "09dee67f",
   "metadata": {},
   "source": [
    "ASCII is subset of the Unicode text."
   ]
  }
 ],
 "metadata": {
  "kernelspec": {
   "display_name": "Python 3",
   "language": "python",
   "name": "python3"
  },
  "language_info": {
   "codemirror_mode": {
    "name": "ipython",
    "version": 3
   },
   "file_extension": ".py",
   "mimetype": "text/x-python",
   "name": "python",
   "nbconvert_exporter": "python",
   "pygments_lexer": "ipython3",
   "version": "3.8.8"
  }
 },
 "nbformat": 4,
 "nbformat_minor": 5
}
