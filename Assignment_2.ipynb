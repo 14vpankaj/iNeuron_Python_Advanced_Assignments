{
 "cells": [
  {
   "cell_type": "markdown",
   "id": "0d58f90c",
   "metadata": {},
   "source": [
    "# Answer 1"
   ]
  },
  {
   "cell_type": "markdown",
   "id": "e8541fb6",
   "metadata": {},
   "source": [
    "A module can contain executable statements as well as function definitions.These statements are intended to initialize the module. They are executed only the first time the module name is encountered in an import statement. Modules can contain functions but also classes.\n",
    "\n",
    "Classes provide a means of bundling data and functionality together. Creating a new class creates a new type of object, allowing new instances of that type to be made. Each class instance can have attributes attached to it for maintaining its state. Class instances can also have methods (defined by its class) for modifying its state."
   ]
  },
  {
   "cell_type": "markdown",
   "id": "39c2c937",
   "metadata": {},
   "source": [
    "# Answer 2"
   ]
  },
  {
   "cell_type": "code",
   "execution_count": 3,
   "id": "a67441b8",
   "metadata": {},
   "outputs": [],
   "source": [
    "class student:\n",
    "    def __init__(self):\n",
    "        pass\n",
    "        \n",
    "class_instance = student()"
   ]
  },
  {
   "cell_type": "markdown",
   "id": "25b18a8c",
   "metadata": {},
   "source": [
    "# Answer 3"
   ]
  },
  {
   "cell_type": "code",
   "execution_count": 4,
   "id": "28b0ccfe",
   "metadata": {},
   "outputs": [],
   "source": [
    "# under the class where class name define and above the __ini__ function class attributes are created.\n",
    "    \n",
    "class student:\n",
    "    cls_attribute=10    #class attribute is created\n",
    "    \n",
    "    def __init__(self):\n",
    "        pass\n",
    "        \n",
    "object=student()  "
   ]
  },
  {
   "cell_type": "markdown",
   "id": "6ec97ef2",
   "metadata": {},
   "source": [
    "# Answer 4"
   ]
  },
  {
   "cell_type": "code",
   "execution_count": 5,
   "id": "35d94891",
   "metadata": {},
   "outputs": [],
   "source": [
    "#under the __ini__ function class attributes are created.\n",
    "    \n",
    "class student:\n",
    "    \n",
    "    def __init__(self,attr1,attr2,attr3):\n",
    "        self.a1=attr1                    \n",
    "        self.a2=attr2\n",
    "        self.a3=attr3\n",
    "        \n",
    "object=student(1,2,3)  "
   ]
  },
  {
   "cell_type": "markdown",
   "id": "120743bc",
   "metadata": {},
   "source": [
    "# Answer 5"
   ]
  },
  {
   "cell_type": "markdown",
   "id": "91d4dbf1",
   "metadata": {},
   "source": [
    "A self act as a pointer to itself. Meaning it pointing to the instance/object, of a class created, binding with the variable which has been initialize and are sending to the class by using init() function."
   ]
  },
  {
   "cell_type": "markdown",
   "id": "0c5bfedc",
   "metadata": {},
   "source": [
    "# Answer 6"
   ]
  },
  {
   "cell_type": "code",
   "execution_count": 8,
   "id": "05524a23",
   "metadata": {},
   "outputs": [
    {
     "name": "stdout",
     "output_type": "stream",
     "text": [
      "panakj neha\n",
      "43\n"
     ]
    }
   ],
   "source": [
    "class student:\n",
    "    def __init__(self,x):\n",
    "        self.x=x\n",
    "    \n",
    "    def __add__(self,other):\n",
    "        return self.x+other.x\n",
    "    \n",
    "object1=student('panakj ')\n",
    "object2=student('neha')\n",
    "object3=student(14)\n",
    "object4=student(29)\n",
    "print(object1+object2) # using '+' operator to call __add__ builtin function\n",
    "print(object3+object4) #concatenitaion the two stringprint(object3+object4)"
   ]
  },
  {
   "cell_type": "markdown",
   "id": "46ea0e0e",
   "metadata": {},
   "source": [
    "# Answer 7"
   ]
  },
  {
   "cell_type": "markdown",
   "id": "e5dc0be7",
   "metadata": {},
   "source": [
    "Operator Overloading means giving extended meaning beyond their predefined operational meaning. For example operator + is used to add two integers as well as join two strings and merge two lists.  It is achievable because ‘+’ operator is overloaded by int class and str class. The same built-in operator or function shows different behavior for objects of different classes, this is called Operator Overloading.It is normally used for performing mathematical operations like Vector operations etc."
   ]
  },
  {
   "cell_type": "markdown",
   "id": "ef118104",
   "metadata": {},
   "source": [
    "# Answer 8"
   ]
  },
  {
   "cell_type": "code",
   "execution_count": 10,
   "id": "74394967",
   "metadata": {},
   "outputs": [],
   "source": [
    "# Generally addition operator is use mostly for operator overloading by using magic method add."
   ]
  },
  {
   "cell_type": "markdown",
   "id": "c43f94c4",
   "metadata": {},
   "source": [
    "# Answer 9"
   ]
  },
  {
   "cell_type": "markdown",
   "id": "163493fc",
   "metadata": {},
   "source": [
    "Self used within the class, Inheritance and __init__ are important concepts of python OOP code. These concepts help us to create code that can be extended and easily maintainable. Inheritance is a great way to eliminate unnecessary repetitive code. A child class can inherit from the parent class partially or entirely. self, the instance of the object is passed by default to __init__ to instatntiate and create instance variables."
   ]
  },
  {
   "cell_type": "code",
   "execution_count": null,
   "id": "276d653c",
   "metadata": {},
   "outputs": [],
   "source": []
  }
 ],
 "metadata": {
  "kernelspec": {
   "display_name": "Python 3",
   "language": "python",
   "name": "python3"
  },
  "language_info": {
   "codemirror_mode": {
    "name": "ipython",
    "version": 3
   },
   "file_extension": ".py",
   "mimetype": "text/x-python",
   "name": "python",
   "nbconvert_exporter": "python",
   "pygments_lexer": "ipython3",
   "version": "3.8.8"
  }
 },
 "nbformat": 4,
 "nbformat_minor": 5
}
