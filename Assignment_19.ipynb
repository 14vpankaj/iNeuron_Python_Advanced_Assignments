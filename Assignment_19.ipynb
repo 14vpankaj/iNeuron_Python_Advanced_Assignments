{
 "cells": [
  {
   "cell_type": "markdown",
   "id": "d5c080fd",
   "metadata": {},
   "source": [
    "# Answer 1"
   ]
  },
  {
   "cell_type": "markdown",
   "id": "fad4d99a",
   "metadata": {},
   "source": [
    "Class is abstraction of an real world entity. It consists of attributes and methods. Instance is an object of a class. It one to many relationship between class and its instatnces."
   ]
  },
  {
   "cell_type": "markdown",
   "id": "3452c382",
   "metadata": {},
   "source": [
    "# Answer 2"
   ]
  },
  {
   "cell_type": "markdown",
   "id": "43a0d6aa",
   "metadata": {},
   "source": [
    "It store the values of the class attributes. When we give the attributes in the init function as an argument then the values which are stored in the object will get passed to it and attributes gets initialised and later on init function passed these values to the class."
   ]
  },
  {
   "cell_type": "markdown",
   "id": "fc7b6c37",
   "metadata": {},
   "source": [
    "# Answer 3"
   ]
  },
  {
   "cell_type": "markdown",
   "id": "037be867",
   "metadata": {},
   "source": [
    "A class contains many information. It contains all the information about the attributes, methods function,etc. All kind of behaviours which class have in the form of methods and attributes are held inside the class."
   ]
  },
  {
   "cell_type": "markdown",
   "id": "89075571",
   "metadata": {},
   "source": [
    "# Answer 4"
   ]
  },
  {
   "cell_type": "markdown",
   "id": "c75f0671",
   "metadata": {},
   "source": [
    "Amethod is refer to the function only but a difference is that, a method can be perfom inside the class by using the class object. It cannot be perform outside the class.\n",
    "\n",
    "While a standard function is a function which can be access outside any where. Working of both the method and std function is same but there is a difference in accessability."
   ]
  },
  {
   "cell_type": "markdown",
   "id": "490ee1d9",
   "metadata": {},
   "source": [
    "# Answer 5"
   ]
  },
  {
   "cell_type": "markdown",
   "id": "785c675b",
   "metadata": {},
   "source": [
    "Yes python do support inheritence in Oops concept. It is possible in python to inherit the behaviour and properties of some other class so as to avoid writing the same code again and again when it is required. We can even do the multiple inheritence. Meaning we can inherit the property of more than onw class into a single class also. Order is matter Followig is the syntax:"
   ]
  },
  {
   "cell_type": "markdown",
   "id": "c41fdde7",
   "metadata": {},
   "source": [
    "# Answer 6"
   ]
  },
  {
   "cell_type": "markdown",
   "id": "25c42118",
   "metadata": {},
   "source": [
    "Encapsulation prevents from accessing accidentally, but not intentionally. The private attributes and methods are not really hidden.The private attributes can be accessed within the object method."
   ]
  },
  {
   "cell_type": "markdown",
   "id": "37a10a7c",
   "metadata": {},
   "source": [
    "# Answer 7"
   ]
  },
  {
   "cell_type": "markdown",
   "id": "8710a398",
   "metadata": {},
   "source": [
    "Class variable It is a variable which is declare below the class and outside the init function, where as, instance variable are declared inside the init function.\n",
    "\n",
    "Class variable need a class name to get called as well as it can be called by the class instance name also, where as a instance variable can be called by an object name but not with the class name.\n",
    "\n",
    "Class variable* is Global to all the objects of a class means it is shared accross every object, while, instance variable is only for th eunique data values which are stored by the class instance.\n",
    "\n",
    "Class variable could not override the instance variable but instance variable can override the class variable"
   ]
  },
  {
   "cell_type": "markdown",
   "id": "e643c278",
   "metadata": {},
   "source": [
    "# Answer 8"
   ]
  },
  {
   "cell_type": "markdown",
   "id": "341b8449",
   "metadata": {},
   "source": [
    "Self can included to access the class variables and instance variiables."
   ]
  },
  {
   "cell_type": "markdown",
   "id": "620ab7f7",
   "metadata": {},
   "source": [
    "# Answer 9"
   ]
  },
  {
   "cell_type": "markdown",
   "id": "342d3d89",
   "metadata": {},
   "source": [
    "When you add two numbers using the + operator, internally, the __add__() method will be called. We can overload this method to perform. "
   ]
  },
  {
   "cell_type": "markdown",
   "id": "0ead390c",
   "metadata": {},
   "source": [
    "# Answer 10"
   ]
  },
  {
   "cell_type": "markdown",
   "id": "a1c68faa",
   "metadata": {},
   "source": [
    "Reflection is a facility where you can query an object about its attributes at runtime. Meaning, we can modify the object variable, create new class atrributes during the run without initialising inside the constructor. It is then display by invoking it as an instance variable. This is an reflection facility. This is needed when we have sudden requirement of any new attributes that has to work with the class."
   ]
  },
  {
   "cell_type": "markdown",
   "id": "557b8f19",
   "metadata": {},
   "source": [
    "# Answer 11"
   ]
  },
  {
   "cell_type": "markdown",
   "id": "1133192d",
   "metadata": {},
   "source": [
    "It is an inplace add method which is an built in method. Like that of add , it also adds the two value but unlike _ add _ , it stores that value which was calculated.\n",
    "\n",
    "iadd is actually storing value its adding into the instance variable and return the new value"
   ]
  },
  {
   "cell_type": "markdown",
   "id": "d3d18265",
   "metadata": {},
   "source": [
    "# Answer 12"
   ]
  },
  {
   "cell_type": "markdown",
   "id": "d1998077",
   "metadata": {},
   "source": [
    "init method is basically used for constructing the object variables meaning, initialisation of object variables happen, where the class attributes gets the values from the class instance where the values are stored. So when we want to inherit the attributes/variables of the class then we need to inherit the init method also. This implies that whatever the variables were initialise in the parent class, those will also get initialise in the subclass. We uses super() method in order to call the parent class.\n",
    "\n",
    "We can customise the behaviour of the subclass by declaring some new other attributes and initialising them. However these new attributes will only get accessed by the subclass object. We could use overridding technique also for changing the behaviour of the init method without defining it separately inside the subclass"
   ]
  },
  {
   "cell_type": "code",
   "execution_count": null,
   "id": "e351c481",
   "metadata": {},
   "outputs": [],
   "source": []
  }
 ],
 "metadata": {
  "kernelspec": {
   "display_name": "Python 3",
   "language": "python",
   "name": "python3"
  },
  "language_info": {
   "codemirror_mode": {
    "name": "ipython",
    "version": 3
   },
   "file_extension": ".py",
   "mimetype": "text/x-python",
   "name": "python",
   "nbconvert_exporter": "python",
   "pygments_lexer": "ipython3",
   "version": "3.8.8"
  }
 },
 "nbformat": 4,
 "nbformat_minor": 5
}
