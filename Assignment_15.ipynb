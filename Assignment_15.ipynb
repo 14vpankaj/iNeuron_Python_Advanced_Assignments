{
 "cells": [
  {
   "cell_type": "markdown",
   "id": "337f1ad2",
   "metadata": {},
   "source": [
    "# Answer 1"
   ]
  },
  {
   "cell_type": "markdown",
   "id": "07324e78",
   "metadata": {},
   "source": [
    "The walrus operator ':='\n",
    "\n",
    "There is a new function parameter syntax (/) to highlight that some of the functions must be stated positionally and not by keyword arguments. We also have an operator (*) that indicates that the arguments must be keyword only.\n",
    "\n",
    "Vector call which is a fast calling protocol for CPython."
   ]
  },
  {
   "cell_type": "markdown",
   "id": "7d12f2b8",
   "metadata": {},
   "source": [
    "# Answer 2"
   ]
  },
  {
   "cell_type": "markdown",
   "id": "f9dab039",
   "metadata": {},
   "source": [
    "In Python, the term monkey patch refers to dynamic (or run-time) modifications of a class or module. We can actually change the behavior of code at run-time."
   ]
  },
  {
   "cell_type": "markdown",
   "id": "4c8fe654",
   "metadata": {},
   "source": [
    "# Answer 3"
   ]
  },
  {
   "cell_type": "markdown",
   "id": "38fe294c",
   "metadata": {},
   "source": [
    "A shallow copy means constructing a new collection object and then populating it with references to the child objects found in the original. In essence, a shallow copy is only one level deep. The copying process does not recurse and therefore won’t create copies of the child objects themselves."
   ]
  },
  {
   "cell_type": "markdown",
   "id": "a281c86c",
   "metadata": {},
   "source": [
    "A deep copy makes the copying process recursive. It means first constructing a new collection object and then recursively populating it with copies of the child objects found in the original. Copying an object this way walks the whole object tree to create a fully independent clone of the original object and all of its children."
   ]
  },
  {
   "cell_type": "markdown",
   "id": "f4903f17",
   "metadata": {},
   "source": [
    "# Answer 4"
   ]
  },
  {
   "cell_type": "markdown",
   "id": "0bb1d24f",
   "metadata": {},
   "source": [
    "Python gives the identifiers unlimited length. However, the layout of PEP-8 prevents the user from breaking the rules and includes a 79-character limit."
   ]
  },
  {
   "cell_type": "markdown",
   "id": "8db00a43",
   "metadata": {},
   "source": [
    "# Answer 5"
   ]
  },
  {
   "cell_type": "markdown",
   "id": "78595bae",
   "metadata": {},
   "source": [
    "Generator Expressions or comprehension are somewhat similar to list comprehensions, but the former doesn’t construct list object. Instead of creating a list and keeping the whole sequence in the memory, the generator generates the next element in demand. When a normal function with a return statement is called, it terminates whenever it getsa return statement. But a function with a yield statement saves the state of the function and can be picked up from the same state, next time the function is called. The Generator Expression allows us to create a generator without the yield keyword."
   ]
  },
  {
   "cell_type": "code",
   "execution_count": 4,
   "id": "ae94f23f",
   "metadata": {},
   "outputs": [
    {
     "name": "stdout",
     "output_type": "stream",
     "text": [
      "<generator object <genexpr> at 0x000002E9A9E4E190>\n"
     ]
    },
    {
     "data": {
      "text/plain": [
       "45"
      ]
     },
     "execution_count": 4,
     "metadata": {},
     "output_type": "execute_result"
    }
   ],
   "source": [
    "generator =(i for i in range(0,10))\n",
    "print(generator)\n",
    "sum(generator)"
   ]
  },
  {
   "cell_type": "code",
   "execution_count": null,
   "id": "641443ca",
   "metadata": {},
   "outputs": [],
   "source": []
  },
  {
   "cell_type": "code",
   "execution_count": null,
   "id": "251443c8",
   "metadata": {},
   "outputs": [],
   "source": []
  }
 ],
 "metadata": {
  "kernelspec": {
   "display_name": "Python 3",
   "language": "python",
   "name": "python3"
  },
  "language_info": {
   "codemirror_mode": {
    "name": "ipython",
    "version": 3
   },
   "file_extension": ".py",
   "mimetype": "text/x-python",
   "name": "python",
   "nbconvert_exporter": "python",
   "pygments_lexer": "ipython3",
   "version": "3.8.8"
  }
 },
 "nbformat": 4,
 "nbformat_minor": 5
}
