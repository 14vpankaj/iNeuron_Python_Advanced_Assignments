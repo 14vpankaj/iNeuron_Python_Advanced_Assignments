{
 "cells": [
  {
   "cell_type": "markdown",
   "id": "d897aeb7",
   "metadata": {},
   "source": [
    "# Answer 1"
   ]
  },
  {
   "cell_type": "markdown",
   "id": "e8f8acba",
   "metadata": {},
   "source": [
    "The Python try… except statement catches an exception. It is used to test code for an error which is written in the “try” statement. If an error is encountered, the contents of the “except” block are run."
   ]
  },
  {
   "cell_type": "markdown",
   "id": "c05ce11d",
   "metadata": {},
   "source": [
    "# Answer 2"
   ]
  },
  {
   "cell_type": "markdown",
   "id": "49ba24f5",
   "metadata": {},
   "source": [
    "try with except block: When try fails except will execute. When try passess, except do not execute\n",
    "\n",
    "try with except and else: When try will execute then only else block will exceute. If try fails then only except block will exceute not else block"
   ]
  },
  {
   "cell_type": "markdown",
   "id": "d4aa3e7b",
   "metadata": {},
   "source": [
    "# Answer 3"
   ]
  },
  {
   "cell_type": "markdown",
   "id": "a6d76cc9",
   "metadata": {},
   "source": [
    "The purpose of the raise statement is manually create an exception explicitly. It can be used to raise user defined exceptions or built in exceptions."
   ]
  },
  {
   "cell_type": "markdown",
   "id": "a28387c8",
   "metadata": {},
   "source": [
    "# Answer 4"
   ]
  },
  {
   "cell_type": "markdown",
   "id": "b97e5ec4",
   "metadata": {},
   "source": [
    "An assert statement checks whether a condition is true. If a condition evaluates to True, a program will keep running. If a condition is false, the program will return an AssertionError. At this point, the program will stop executing."
   ]
  },
  {
   "cell_type": "markdown",
   "id": "be966e75",
   "metadata": {},
   "source": [
    "# Answer 5"
   ]
  },
  {
   "cell_type": "markdown",
   "id": "5d57529f",
   "metadata": {},
   "source": [
    "with expression [as variable]:\n",
    "with-block\n",
    "\n",
    "with/as statement is designed to automate startup and exit processes\n",
    "that must occur around a block of code."
   ]
  },
  {
   "cell_type": "code",
   "execution_count": null,
   "id": "14321ac3",
   "metadata": {},
   "outputs": [],
   "source": []
  }
 ],
 "metadata": {
  "kernelspec": {
   "display_name": "Python 3",
   "language": "python",
   "name": "python3"
  },
  "language_info": {
   "codemirror_mode": {
    "name": "ipython",
    "version": 3
   },
   "file_extension": ".py",
   "mimetype": "text/x-python",
   "name": "python",
   "nbconvert_exporter": "python",
   "pygments_lexer": "ipython3",
   "version": "3.8.8"
  }
 },
 "nbformat": 4,
 "nbformat_minor": 5
}
