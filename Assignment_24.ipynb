{
 "cells": [
  {
   "cell_type": "markdown",
   "id": "1d60e800",
   "metadata": {},
   "source": [
    "# Answer 1"
   ]
  },
  {
   "cell_type": "markdown",
   "id": "d940c7a0",
   "metadata": {},
   "source": [
    "Yes we can use more than one import statement to import the same module more than once.\n",
    "\n",
    "This is com einto action when support we want to import some other function or class from the base class of any module for example.\n",
    "\n",
    "from sklearn.preprocessing import LabelEncoder\n",
    "\n",
    "from sklearn.linear_model import LinearRegression"
   ]
  },
  {
   "cell_type": "markdown",
   "id": "75d55a3d",
   "metadata": {},
   "source": [
    "# Answer 2"
   ]
  },
  {
   "cell_type": "markdown",
   "id": "5f71f4b9",
   "metadata": {},
   "source": [
    "name : It returns the name of the module\n",
    "\n",
    "doc : It denotes the documentation string line written in a module code.\n",
    "\n",
    "file : It holds the name and path of the module file from which it is loaded\n",
    "\n",
    "dict : It return a dictionary object of module attributes, functions and other definitions and their respective values."
   ]
  },
  {
   "cell_type": "markdown",
   "id": "0b52748c",
   "metadata": {},
   "source": [
    "# Answer 3"
   ]
  },
  {
   "cell_type": "markdown",
   "id": "451ddd23",
   "metadata": {},
   "source": [
    "Circular importing means importing the two modules in each other. If suppose we are wokring in MOD1.py file and it is importing some function say F2() from some other module say MOD2.PY file or we can do vice-versa. What will happen is: This will give an import error.\n",
    "\n",
    "This is because when we import F2() function from module MOD2.py, then this will execute MOD2.py file. And in MOD2.py file there is an another statement of importing MOD1.py module. This will result in endless loop. To avoid this error just do one thing-\n",
    "\n",
    "We can use if name == 'main'\n",
    "\n",
    "In the function, you can't directly refer to the function in the program. The addition of this sentence avoids the endless loop of the program"
   ]
  },
  {
   "cell_type": "markdown",
   "id": "e2e9f3b8",
   "metadata": {},
   "source": [
    "# Answer 4"
   ]
  },
  {
   "cell_type": "markdown",
   "id": "26643847",
   "metadata": {},
   "source": [
    "It specifies all the modules present in the particular library and those can be called when we use import *"
   ]
  },
  {
   "cell_type": "markdown",
   "id": "5ed12d9b",
   "metadata": {},
   "source": [
    "# Answer 5"
   ]
  },
  {
   "cell_type": "markdown",
   "id": "cd8b9b73",
   "metadata": {},
   "source": [
    "\n",
    "During the time of execution of the code if we want to refer the module in which we are working on then we uses name attribute. In that case it will return the module in which we are working on. Suppose if that moudle is being imported from some other module then name will have the name of that moudle from where the current module has been imported. The current module in which we are working is refer to the string '_ main _'"
   ]
  },
  {
   "cell_type": "code",
   "execution_count": null,
   "id": "73d12ebf",
   "metadata": {},
   "outputs": [],
   "source": []
  }
 ],
 "metadata": {
  "kernelspec": {
   "display_name": "Python 3",
   "language": "python",
   "name": "python3"
  },
  "language_info": {
   "codemirror_mode": {
    "name": "ipython",
    "version": 3
   },
   "file_extension": ".py",
   "mimetype": "text/x-python",
   "name": "python",
   "nbconvert_exporter": "python",
   "pygments_lexer": "ipython3",
   "version": "3.8.8"
  }
 },
 "nbformat": 4,
 "nbformat_minor": 5
}
