{
 "cells": [
  {
   "cell_type": "markdown",
   "id": "16c33eea",
   "metadata": {},
   "source": [
    "# Answer 1 "
   ]
  },
  {
   "cell_type": "markdown",
   "id": "198dbb15",
   "metadata": {},
   "source": [
    "A parent class is well known as super class from where child class inherit the data. An abstract superclass a parent class from where the subclassess or child classes ae derived or we can say, subclasses can inherit the property of the parent class in the form of data"
   ]
  },
  {
   "cell_type": "markdown",
   "id": "4fb8fdd5",
   "metadata": {},
   "source": [
    "# Answer 2"
   ]
  },
  {
   "cell_type": "markdown",
   "id": "105dc2b9",
   "metadata": {},
   "source": [
    "It is act a simple variable having some value stored in it which can be used as a normal variable while calling any function or variables inside the class. It does not come sunder the class. It is global in nature for the class. It can be used directly by with class or with class object or with any other subclass."
   ]
  },
  {
   "cell_type": "markdown",
   "id": "89a67afd",
   "metadata": {},
   "source": [
    "# Answer 3"
   ]
  },
  {
   "cell_type": "markdown",
   "id": "9d000b71",
   "metadata": {},
   "source": [
    "sub class need to manually call a superclass's __init__ method to instantiate its object in addition to calling its own __init__ .it is done using the super() e.g : super().__init__(self) this is how the subclass calls the _init_ meyhod of its super class."
   ]
  },
  {
   "cell_type": "markdown",
   "id": "db2c03a1",
   "metadata": {},
   "source": [
    "# Answer 4"
   ]
  },
  {
   "cell_type": "markdown",
   "id": "494f6f72",
   "metadata": {},
   "source": [
    "The inherited method has to redefined in subclass by calling the parent class equivalent of the inherited method explicitly from the inherited method in the subclass e.g:superclass.method_name(self,..)"
   ]
  },
  {
   "cell_type": "markdown",
   "id": "b997cbda",
   "metadata": {},
   "source": [
    "# Answer 5"
   ]
  },
  {
   "cell_type": "markdown",
   "id": "62603b66",
   "metadata": {},
   "source": [
    "In case of function, local scope means, whatever the variable is declare locally that will be only operate inside the function. It cannot be use outside the function. Th emost important thing is it can only be used within one function only under which it is declared.\n",
    "\n",
    "In case of class, local scope means, whatever the variable is declared under the class or inside the class that will be used within a class only either by binding it with object of a class or with class itself. Unlike the function, local scope of a variable is not restricted with in one function only. IN class it can be used with any number of function which are defined inside the class."
   ]
  },
  {
   "cell_type": "code",
   "execution_count": null,
   "id": "270c2ea0",
   "metadata": {},
   "outputs": [],
   "source": []
  }
 ],
 "metadata": {
  "kernelspec": {
   "display_name": "Python 3",
   "language": "python",
   "name": "python3"
  },
  "language_info": {
   "codemirror_mode": {
    "name": "ipython",
    "version": 3
   },
   "file_extension": ".py",
   "mimetype": "text/x-python",
   "name": "python",
   "nbconvert_exporter": "python",
   "pygments_lexer": "ipython3",
   "version": "3.8.8"
  }
 },
 "nbformat": 4,
 "nbformat_minor": 5
}
