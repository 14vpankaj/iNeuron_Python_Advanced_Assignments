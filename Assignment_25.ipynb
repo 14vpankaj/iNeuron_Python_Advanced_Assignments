{
 "cells": [
  {
   "cell_type": "markdown",
   "id": "0a1a72d2",
   "metadata": {},
   "source": [
    "# Answer 1"
   ]
  },
  {
   "cell_type": "markdown",
   "id": "3cad3c4b",
   "metadata": {},
   "source": [
    "Numpy array:\n",
    "\n",
    "This is in the form of matrix structure which have rows and columns. It generally performs python mathematical operation which is not genrally easy manually to perfomr in coding case. It may be of any dimensions like 1-d, 2-d, 3-d, 4-d, etc depend upon the use to requirement. Unlike dataframe, numpy array are not in a tabular form which ahve records and have fields instead it is in the form of matrices. It can have single row and single column as well but dataframe poses more than one column\n",
    "\n",
    "DataFrame:\n",
    "\n",
    "This is a kind of tabular structure format which are having more than one column. Unlike numpy array which can have more single as well as many number of columns, but dataframe have more than one column. Dataframe can have any number of dimensons but it should be more than one. We can use numpy array operation in dataframe and can also convert the numpy array into dataframe"
   ]
  },
  {
   "cell_type": "markdown",
   "id": "81f84233",
   "metadata": {},
   "source": [
    "# Answer 3"
   ]
  },
  {
   "cell_type": "code",
   "execution_count": 1,
   "id": "60953e40",
   "metadata": {},
   "outputs": [],
   "source": [
    "# LINE CHART\n",
    "# POINT AND FIGURE CHART\n",
    "# CANDLESTICK CHART\n",
    "# BAR CHART"
   ]
  },
  {
   "cell_type": "markdown",
   "id": "90089cce",
   "metadata": {},
   "source": [
    "# Answer 4"
   ]
  },
  {
   "cell_type": "markdown",
   "id": "165dfd42",
   "metadata": {},
   "source": [
    "Legends adds a beauty to visualize the trend of data w.r.t. different features. It creates the different trend in different colors indicating that which is belong to which trend is belong to which feature"
   ]
  },
  {
   "cell_type": "markdown",
   "id": "a3a5b066",
   "metadata": {},
   "source": [
    "# Answer 5"
   ]
  },
  {
   "cell_type": "markdown",
   "id": "115cbe66",
   "metadata": {},
   "source": [
    "We can use start and end parameters for that. In start we write the date from where we are starting and at the end we write the end date. SO within this span we can restric the duration. Also we can use the parameters like periods for how much times we need the duration and we can also use the frequency parameter."
   ]
  },
  {
   "cell_type": "markdown",
   "id": "64a246c8",
   "metadata": {},
   "source": [
    "# Answer 6"
   ]
  },
  {
   "cell_type": "markdown",
   "id": "166161fb",
   "metadata": {},
   "source": [
    "Moving Averages help to filter out market noise and smooth out fluctuations in price. In statistics, a moving average is a calculation used to analyze data points by creating a series of averages of different subsets of the full data set.\n",
    "\n",
    "180-day moving average means A simple moving average (SMA) is a arithmetic mean of a given set of prices over the 180 days in the past"
   ]
  },
  {
   "cell_type": "code",
   "execution_count": null,
   "id": "1fedec59",
   "metadata": {},
   "outputs": [],
   "source": []
  }
 ],
 "metadata": {
  "kernelspec": {
   "display_name": "Python 3",
   "language": "python",
   "name": "python3"
  },
  "language_info": {
   "codemirror_mode": {
    "name": "ipython",
    "version": 3
   },
   "file_extension": ".py",
   "mimetype": "text/x-python",
   "name": "python",
   "nbconvert_exporter": "python",
   "pygments_lexer": "ipython3",
   "version": "3.8.8"
  }
 },
 "nbformat": 4,
 "nbformat_minor": 5
}
