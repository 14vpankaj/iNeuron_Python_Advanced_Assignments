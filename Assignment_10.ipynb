{
 "cells": [
  {
   "cell_type": "markdown",
   "id": "06915ff5",
   "metadata": {},
   "source": [
    "# Answer 1"
   ]
  },
  {
   "cell_type": "markdown",
   "id": "60c2a849",
   "metadata": {},
   "source": [
    "__getattr__ method method is used for fetching undefined attributes only (i.e., those not present on an instance and not inherited from any of its classes).\n",
    "\n",
    "__getattribute__ method is called for every attribute fetch, whether the attribute is defined or not. Because of this, code inside a __getattr__ can freely fetchother attributes if they are defined, whereas __getattribute__ must use special codefor all such attribute fetches to avoid looping or extra calls."
   ]
  },
  {
   "cell_type": "markdown",
   "id": "7945f329",
   "metadata": {},
   "source": [
    "# Answer 2"
   ]
  },
  {
   "cell_type": "markdown",
   "id": "a1df189e",
   "metadata": {},
   "source": [
    "Properties: We can bind getter, setter and delete functions with an attribute name, using the built-in property function. When we do this, each reference to an attribute looks like simple, direct access, but invokes the appropriate function of the object.\n",
    "\n",
    "Descriptors: We can bind getter, setter (and deleter) functions into a separate class. We then assign an object of this class to the attribute name. When we do this, each reference to an attribute looks like simple, direct access, but invokes an appropriate function of the Descriptor object."
   ]
  },
  {
   "cell_type": "markdown",
   "id": "c3377977",
   "metadata": {},
   "source": [
    "# Answer 3"
   ]
  },
  {
   "cell_type": "markdown",
   "id": "c5de32a6",
   "metadata": {},
   "source": [
    "getattr : It return the value of attributes which is constructed inside the class and having an class object which store its value.\n",
    "\n",
    "If the attribute is not present inside the class and if default value is provided in the syntax only then it will return that value else it will show attribute error\n",
    "\n",
    "getattribute : This method will invoked before looking at the actual attributes on the object. Means, if ywe have getattribute method in our class, python invokes this method for every attribute regardless whether it exists or not.\n",
    "\n",
    "Properties: We can bind getter, setter and delete functions with an attribute name, using the built-in property function. When we do this, each reference to an attribute looks like simple, direct access, but invokes the appropriate function of the object.\n",
    "\n",
    "Descriptors: We can bind getter, setter (and deleter) functions into a separate class. We then assign an object of this class to the attribute name. When we do this, each reference to an attribute looks like simple, direct access, but invokes an appropriate function of the Descriptor object."
   ]
  },
  {
   "cell_type": "code",
   "execution_count": null,
   "id": "ea6b79f4",
   "metadata": {},
   "outputs": [],
   "source": []
  }
 ],
 "metadata": {
  "kernelspec": {
   "display_name": "Python 3",
   "language": "python",
   "name": "python3"
  },
  "language_info": {
   "codemirror_mode": {
    "name": "ipython",
    "version": 3
   },
   "file_extension": ".py",
   "mimetype": "text/x-python",
   "name": "python",
   "nbconvert_exporter": "python",
   "pygments_lexer": "ipython3",
   "version": "3.8.8"
  }
 },
 "nbformat": 4,
 "nbformat_minor": 5
}
