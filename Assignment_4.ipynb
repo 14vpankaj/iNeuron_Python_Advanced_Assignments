{
 "cells": [
  {
   "cell_type": "markdown",
   "id": "1a7c3ae7",
   "metadata": {},
   "source": [
    "# Answer 1"
   ]
  },
  {
   "cell_type": "code",
   "execution_count": 1,
   "id": "b072a661",
   "metadata": {},
   "outputs": [],
   "source": [
    "# iter () and next () are the two operator overloading methods that can be used for iteration in the class."
   ]
  },
  {
   "cell_type": "markdown",
   "id": "cdee3922",
   "metadata": {},
   "source": [
    "# Answer 2"
   ]
  },
  {
   "cell_type": "markdown",
   "id": "3527c44f",
   "metadata": {},
   "source": [
    "str is used to print the string representation of an object in such a way that it is readable to the user. Only informatic part. We can also say that only inofficial string representation of the object is taken care by using this method. We cannot reuse it to build the object again for the respective class.\n",
    "\n",
    "repr is used to print the official information about the object. Meaning, the representation of object in a string format in such a way that it is understand by the machine only, however user can also understand but its representation is not that much readable. It can be reuse for constructing the object again of respective class."
   ]
  },
  {
   "cell_type": "markdown",
   "id": "430c9afa",
   "metadata": {},
   "source": [
    "# Answer 3"
   ]
  },
  {
   "cell_type": "markdown",
   "id": "6856b824",
   "metadata": {},
   "source": [
    "The __getitem__ documentation says: \"Called to implement evaluation of self[key]. For sequence types, the accepted keys should be integers and slice objects.\" (my emphasys). And for __setitem__: \" Same note as for __getitem__()\", which I take to mean that key can also be a slice."
   ]
  },
  {
   "cell_type": "markdown",
   "id": "3827817a",
   "metadata": {},
   "source": [
    "# Answer 4"
   ]
  },
  {
   "cell_type": "markdown",
   "id": "55b208fa",
   "metadata": {},
   "source": [
    "It is possible that we can add something in a function in additional manner. We just need to pass the value inside the function."
   ]
  },
  {
   "cell_type": "markdown",
   "id": "ccb1fbad",
   "metadata": {},
   "source": [
    "# Answer 5"
   ]
  },
  {
   "cell_type": "markdown",
   "id": "77f36632",
   "metadata": {},
   "source": [
    "The operator overloading in Python means provide extended meaning beyond their predefined operational meaning. Such as, we use the \"+\" operator for adding two integers as well as joining two strings or merging two lists. We can achieve this as the \"+\" operator is overloaded by the \"int\" class and \"str\" class."
   ]
  },
  {
   "cell_type": "code",
   "execution_count": null,
   "id": "3bbd5953",
   "metadata": {},
   "outputs": [],
   "source": []
  }
 ],
 "metadata": {
  "kernelspec": {
   "display_name": "Python 3",
   "language": "python",
   "name": "python3"
  },
  "language_info": {
   "codemirror_mode": {
    "name": "ipython",
    "version": 3
   },
   "file_extension": ".py",
   "mimetype": "text/x-python",
   "name": "python",
   "nbconvert_exporter": "python",
   "pygments_lexer": "ipython3",
   "version": "3.8.8"
  }
 },
 "nbformat": 4,
 "nbformat_minor": 5
}
