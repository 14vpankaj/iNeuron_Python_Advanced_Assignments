{
 "cells": [
  {
   "cell_type": "markdown",
   "id": "e30d30a6",
   "metadata": {},
   "source": [
    "# Answer 1"
   ]
  },
  {
   "cell_type": "markdown",
   "id": "85c201a6",
   "metadata": {},
   "source": [
    "Exception processing is applied for handling the errors.\n",
    "\n",
    "Providing necessary notification on occurrence of certain events.  \n",
    "\n",
    "Providing handover control of the code using return, break etc."
   ]
  },
  {
   "cell_type": "markdown",
   "id": "82ba3485",
   "metadata": {},
   "source": [
    "# Answer 2"
   ]
  },
  {
   "cell_type": "markdown",
   "id": "b294eb40",
   "metadata": {},
   "source": [
    "If nothing special is doen to handle the exception then if code is not correctly then then the whole programm will not able able to proceesed further and in the display lon error description comes. Secondaly it is very dangrous also. Suppose there is a very crucial program written and if it gets failed and we havent written any special exception then no one can ever understand the issue and problem and he cannot tell the programm about the code."
   ]
  },
  {
   "cell_type": "markdown",
   "id": "f98164aa",
   "metadata": {},
   "source": [
    "# Answer 3"
   ]
  },
  {
   "cell_type": "markdown",
   "id": "80da811c",
   "metadata": {},
   "source": [
    "Using the try-except we can catch and recover. After the exception is handled, the program will continue after the try-except block."
   ]
  },
  {
   "cell_type": "markdown",
   "id": "61cb2bb5",
   "metadata": {},
   "source": [
    "# Answer 4"
   ]
  },
  {
   "cell_type": "markdown",
   "id": "d13081a4",
   "metadata": {},
   "source": [
    "raise and assert statements are used triggering exceptions."
   ]
  },
  {
   "cell_type": "markdown",
   "id": "d8d53516",
   "metadata": {},
   "source": [
    "# Answer 5"
   ]
  },
  {
   "cell_type": "markdown",
   "id": "75990ed3",
   "metadata": {},
   "source": [
    "try/finally statement. The finally clause will execute as the last task before the try statement completes. The finally clause runs whether or not the try statement produces an exception."
   ]
  },
  {
   "cell_type": "code",
   "execution_count": null,
   "id": "53b3700c",
   "metadata": {},
   "outputs": [],
   "source": []
  }
 ],
 "metadata": {
  "kernelspec": {
   "display_name": "Python 3",
   "language": "python",
   "name": "python3"
  },
  "language_info": {
   "codemirror_mode": {
    "name": "ipython",
    "version": 3
   },
   "file_extension": ".py",
   "mimetype": "text/x-python",
   "name": "python",
   "nbconvert_exporter": "python",
   "pygments_lexer": "ipython3",
   "version": "3.8.8"
  }
 },
 "nbformat": 4,
 "nbformat_minor": 5
}
