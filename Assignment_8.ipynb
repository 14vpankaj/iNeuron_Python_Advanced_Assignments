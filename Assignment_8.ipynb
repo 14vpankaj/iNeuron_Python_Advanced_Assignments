{
 "cells": [
  {
   "cell_type": "markdown",
   "id": "2745d0b6",
   "metadata": {},
   "source": [
    "# Answer 1"
   ]
  },
  {
   "cell_type": "markdown",
   "id": "ab48ea5a",
   "metadata": {},
   "source": [
    "raise statement: With the help of raise keyword we can create a user defined exceptions.\n",
    "\n",
    "assert statement: With the help of the assert keyword we can create an assertion error."
   ]
  },
  {
   "cell_type": "markdown",
   "id": "48ac10fa",
   "metadata": {},
   "source": [
    "# Answer 2"
   ]
  },
  {
   "cell_type": "markdown",
   "id": "1c95390f",
   "metadata": {},
   "source": [
    "Class-based exceptions match by superclass relationships: naming a superclass in an exception handler will catch instances of that class, as well as instances of any of its subclasses lower in the class tree. Because of this, you can think of superclasses as general exception categories and subclasses as more specific types of exceptions within those categories."
   ]
  },
  {
   "cell_type": "markdown",
   "id": "505b8c0b",
   "metadata": {},
   "source": [
    "# Answer 3"
   ]
  },
  {
   "cell_type": "markdown",
   "id": "0e7a79d6",
   "metadata": {},
   "source": [
    "By passing the instance attributes in the object raised, usually in a custom class constructor.\n",
    "\n",
    "Built-in Exception superclass provide a constructor that stores its arguments on the instance automatically."
   ]
  },
  {
   "cell_type": "markdown",
   "id": "c8d7f4d5",
   "metadata": {},
   "source": [
    "# Answer 4"
   ]
  },
  {
   "cell_type": "markdown",
   "id": "ed2233d7",
   "metadata": {},
   "source": [
    "(1) By overloading the __str__ method.\n",
    "\n",
    "(2) By using the Exception superclass which will raise the error by default."
   ]
  },
  {
   "cell_type": "markdown",
   "id": "90091e24",
   "metadata": {},
   "source": [
    "# Answer 5"
   ]
  },
  {
   "cell_type": "markdown",
   "id": "84105f63",
   "metadata": {},
   "source": [
    "String based exceptions are the messages which we give by ourself so that when error occurs then instead of original exception error message, we get that message which we have written in the string form. But this has some drawback. Suppose an error occured and we wanted to know that which kind or type of error it is, there it failed because we have given the customised error message.\n",
    "\n",
    "So even if wanted to change the mistake occured associated with that error, will be difficult to rectify."
   ]
  },
  {
   "cell_type": "code",
   "execution_count": null,
   "id": "aeb50d19",
   "metadata": {},
   "outputs": [],
   "source": []
  }
 ],
 "metadata": {
  "kernelspec": {
   "display_name": "Python 3",
   "language": "python",
   "name": "python3"
  },
  "language_info": {
   "codemirror_mode": {
    "name": "ipython",
    "version": 3
   },
   "file_extension": ".py",
   "mimetype": "text/x-python",
   "name": "python",
   "nbconvert_exporter": "python",
   "pygments_lexer": "ipython3",
   "version": "3.8.8"
  }
 },
 "nbformat": 4,
 "nbformat_minor": 5
}
